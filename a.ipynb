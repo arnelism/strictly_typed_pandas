{
 "cells": [
  {
   "cell_type": "code",
   "execution_count": null,
   "source": [
    "from strictly_typed_pandas import DataSet\n",
    "\n",
    "class SchemaA:\n",
    "    id: int\n",
    "    a: int\n",
    "\n",
    "class SchemaB:\n",
    "    id: int\n",
    "    b: int\n",
    "\n",
    "class SchemaAB(SchemaA, SchemaB):\n",
    "    pass\n",
    "\n",
    "\n",
    "df_a = DataSet[SchemaA]({'id': [1], 'a': [1]})\n",
    "df_b = DataSet[SchemaB]({'id': [1], 'b': [1]})\n",
    "\n",
    "df = df_a.merge(df_b)\n",
    "df"
   ],
   "outputs": [],
   "metadata": {}
  },
  {
   "cell_type": "code",
   "execution_count": null,
   "source": [
    "from typing import get_type_hints\n",
    "\n",
    "get_type_hints(df._schema)"
   ],
   "outputs": [],
   "metadata": {}
  },
  {
   "cell_type": "code",
   "execution_count": null,
   "source": [
    "import pandas as pd\n",
    "from strictly_typed_pandas import IndexedDataSet\n",
    "\n",
    "class IndexSchemaA:\n",
    "    id: int\n",
    "\n",
    "class IndexSchemaB:\n",
    "    id: int\n",
    "\n",
    "class SchemaA:\n",
    "    a: int\n",
    "\n",
    "class SchemaB:\n",
    "    b: int\n",
    "\n",
    "class SchemaAB(SchemaA, SchemaB):\n",
    "    pass\n",
    "\n",
    "df_a = (\n",
    "    pd.DataFrame(\n",
    "        {\n",
    "            \"id\": [1, 2, 3],\n",
    "            \"a\": [1, 2, 3]\n",
    "        }\n",
    "    )\n",
    "    .set_index([\"id\"])\n",
    "    .pipe(IndexedDataSet[IndexSchemaA, SchemaA])\n",
    ")\n",
    "df_b = (\n",
    "    pd.DataFrame(\n",
    "        {\n",
    "            \"id\": [1, 2, 3],\n",
    "            \"b\": [1, 2, 3]\n",
    "        }\n",
    "    )\n",
    "    .set_index([\"id\"])\n",
    "    .pipe(IndexedDataSet[IndexSchemaB, SchemaB])\n",
    ")\n",
    "\n",
    "df = df_a.join(df_b)\n",
    "df"
   ],
   "outputs": [],
   "metadata": {}
  },
  {
   "cell_type": "code",
   "execution_count": null,
   "source": [
    "get_type_hints(df._schema)"
   ],
   "outputs": [],
   "metadata": {}
  },
  {
   "cell_type": "code",
   "execution_count": null,
   "source": [
    "get_type_hints(df._index_schema)"
   ],
   "outputs": [],
   "metadata": {}
  },
  {
   "cell_type": "code",
   "execution_count": 5,
   "source": [
    "import pandas as pd\n",
    "import sys\n",
    "from typing import TypeVar, Any, Optional\n",
    "import typeguard\n",
    "from typeguard import typechecked, _CallMemo, find_function, check_type\n",
    "from strictly_typed_pandas import DataSet\n",
    "from strictly_typed_pandas.core.join import Join\n",
    "\n",
    "def check_argument_types(memo: Optional[_CallMemo] = None) -> bool:\n",
    "    \"\"\"\n",
    "    Check that the argument values match the annotated types.\n",
    "\n",
    "    Unless both ``args`` and ``kwargs`` are provided, the information will be retrieved from\n",
    "    the previous stack frame (ie. from the function that called this).\n",
    "\n",
    "    :return: ``True``\n",
    "    :raises TypeError: if there is an argument type mismatch\n",
    "\n",
    "    \"\"\"\n",
    "    if memo is None:\n",
    "        # faster than inspect.currentframe(), but not officially\n",
    "        # supported in all python implementations\n",
    "        frame = sys._getframe(1)\n",
    "\n",
    "        try:\n",
    "            func = find_function(frame)\n",
    "        except LookupError:\n",
    "            return True  # This can happen with the Pydev/PyCharm debugger extension installed\n",
    "\n",
    "        memo = _CallMemo(func, frame.f_locals)\n",
    "\n",
    "    for argname, expected_type in memo.type_hints.items():\n",
    "        if argname != 'return' and argname in memo.arguments:\n",
    "            value = memo.arguments[argname]\n",
    "            description = 'argument \"{}\"'.format(argname)\n",
    "            try:\n",
    "                check_type(description, value, expected_type, memo)\n",
    "            except TypeError:\n",
    "                raise TypeError()\n",
    "\n",
    "    return True\n",
    "\n",
    "typeguard.check_argument_types = check_argument_types\n",
    "\n",
    "T = TypeVar('T')\n",
    "class Schema:\n",
    "    b: pd.PeriodDtype(freq=\"D\")\n",
    "class Schema2:\n",
    "    b: int\n",
    "\n",
    "@typechecked\n",
    "def foo(a: DataSet[Schema]) -> DataSet[Any]:\n",
    "    return a\n",
    "\n",
    "foo(DataSet[Schema2]())"
   ],
   "outputs": [
    {
     "output_type": "error",
     "ename": "NameError",
     "evalue": "name 'get_type_hints' is not defined",
     "traceback": [
      "\u001b[0;31m---------------------------------------------------------------------------\u001b[0m",
      "\u001b[0;31mNameError\u001b[0m                                 Traceback (most recent call last)",
      "\u001b[0;32m/var/folders/34/sw2bvhtn2tz3jmm87ctswqtc0000gn/T/ipykernel_64728/4137768009.py\u001b[0m in \u001b[0;36m<module>\u001b[0;34m\u001b[0m\n\u001b[1;32m     53\u001b[0m     \u001b[0;32mreturn\u001b[0m \u001b[0ma\u001b[0m\u001b[0;34m\u001b[0m\u001b[0;34m\u001b[0m\u001b[0m\n\u001b[1;32m     54\u001b[0m \u001b[0;34m\u001b[0m\u001b[0m\n\u001b[0;32m---> 55\u001b[0;31m \u001b[0mget_type_hints\u001b[0m\u001b[0;34m(\u001b[0m\u001b[0mSchema\u001b[0m\u001b[0;34m)\u001b[0m\u001b[0;34m\u001b[0m\u001b[0;34m\u001b[0m\u001b[0m\n\u001b[0m",
      "\u001b[0;31mNameError\u001b[0m: name 'get_type_hints' is not defined"
     ]
    }
   ],
   "metadata": {}
  },
  {
   "cell_type": "code",
   "execution_count": 10,
   "source": [
    "from typing import get_type_hints\n",
    "import numpy as np\n",
    "\n",
    "class Schema:\n",
    "    a: pd.DatetimeTZDtype(tz=\"UTC\")  # type: ignore  # noqa: F821\n",
    "    b: pd.CategoricalDtype\n",
    "    c: pd.PeriodDtype(freq=\"D\")  # type: ignore  # noqa: F821\n",
    "    d: pd.SparseDtype(dtype=np.int64)  # type: ignore\n",
    "    e: pd.IntervalDtype\n",
    "    f: pd.Int64Dtype\n",
    "    h: pd.BooleanDtype\n",
    "\n",
    "get_type_hints(Schema)"
   ],
   "outputs": [
    {
     "output_type": "execute_result",
     "data": {
      "text/plain": [
       "{'a': datetime64[ns, UTC],\n",
       " 'b': pandas.core.dtypes.dtypes.CategoricalDtype,\n",
       " 'c': period[D],\n",
       " 'd': Sparse[int64, 0],\n",
       " 'e': pandas.core.dtypes.dtypes.IntervalDtype,\n",
       " 'f': pandas.core.arrays.integer.Int64Dtype,\n",
       " 'h': pandas.core.arrays.boolean.BooleanDtype}"
      ]
     },
     "metadata": {},
     "execution_count": 10
    }
   ],
   "metadata": {}
  },
  {
   "cell_type": "code",
   "execution_count": null,
   "source": [],
   "outputs": [],
   "metadata": {}
  }
 ],
 "metadata": {
  "orig_nbformat": 4,
  "language_info": {
   "name": "python",
   "version": "3.8.11",
   "mimetype": "text/x-python",
   "codemirror_mode": {
    "name": "ipython",
    "version": 3
   },
   "pygments_lexer": "ipython3",
   "nbconvert_exporter": "python",
   "file_extension": ".py"
  },
  "kernelspec": {
   "name": "python3",
   "display_name": "Python 3.8.11 64-bit ('datascience': conda)"
  },
  "interpreter": {
   "hash": "e450468f0d7d345ac52ae2dfd21616fa71a84a9ecc82a7e32d01da04e2925ad7"
  }
 },
 "nbformat": 4,
 "nbformat_minor": 2
}